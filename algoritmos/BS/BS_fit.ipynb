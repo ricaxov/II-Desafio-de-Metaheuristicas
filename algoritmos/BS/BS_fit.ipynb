{
 "cells": [
  {
   "cell_type": "code",
   "execution_count": 350,
   "metadata": {},
   "outputs": [],
   "source": [
    "import random\n",
    "import math"
   ]
  },
  {
   "cell_type": "code",
   "execution_count": 351,
   "metadata": {},
   "outputs": [],
   "source": [
    "def read_input_from_file(file_path):\n",
    "  with open(file_path, 'r') as file:\n",
    "    # Ler a primeira linha que contém N\n",
    "    N = int(file.readline().strip())  # Quantidade de itens\n",
    "    \n",
    "    # Ler a segunda linha que contém C\n",
    "    C = int(file.readline().strip())  # Capacidade de cada caixa\n",
    "    \n",
    "    # Ler os pesos dos itens, um por linha\n",
    "    item_weights = []\n",
    "    for _ in range(N):\n",
    "      weight = int(file.readline().strip())\n",
    "      item_weights.append(weight)\n",
    "  \n",
    "  return N, C, item_weights"
   ]
  },
  {
   "cell_type": "code",
   "execution_count": 352,
   "metadata": {},
   "outputs": [],
   "source": [
    "def write_output_to_file(file_path, best_fitness):\n",
    "  with open(file_path, 'w') as file:\n",
    "    file.write(f'Numero de bins usados (fitness): {best_fitness}\\n')"
   ]
  },
  {
   "cell_type": "code",
   "execution_count": 353,
   "metadata": {},
   "outputs": [],
   "source": [
    "input_file = 'input.in'\n",
    "output_file = 'output.out'\n",
    "\n",
    "n, C, bin_sizes = read_input_from_file(input_file)"
   ]
  },
  {
   "cell_type": "code",
   "execution_count": 354,
   "metadata": {},
   "outputs": [],
   "source": [
    "def check(now):\n",
    "  need = 1\n",
    "  total_sum = 0\n",
    "  for i in range(n):\n",
    "    if total_sum + bin_sizes[now[i]] <= C:\n",
    "      total_sum += bin_sizes[now[i]]\n",
    "    else:\n",
    "      total_sum = bin_sizes[now[i]]\n",
    "      need += 1\n",
    "  return need"
   ]
  },
  {
   "cell_type": "code",
   "execution_count": 355,
   "metadata": {},
   "outputs": [],
   "source": [
    "cooling_rate = 1 - math.exp(-n / 100) # quanto maior o N mais proximo de 1.0\n",
    "taxa = 100 * n                        # taxa de embaralhamentos, quanto maior o numero de caixas menor sera o numero de shuffles para testar\n",
    "out = n // 9                          # numero de caixas alem da testada atualmente(delta) que é aceitavel no momento, ela muda com base no cooling rate\n",
    "global_solution = n                   # a melhor solução inicial será um item inserido em cada caixa(inicializa com o pior possivel)\n",
    "\n",
    "def try_packs(packs):\n",
    "\n",
    "  global out\n",
    "  global global_solution\n",
    "  global cooling_rate\n",
    "  \n",
    "  out = out * cooling_rate            # diferentemente do SA neste caso o cooling rate neste caso nao varia com o tempo\n",
    "                                      # contudo o cooling rate diminuiu o valor de \"out\" a cada iteração diminuindo o alcance de aceitação a cada processo de iteração\n",
    "  tests = taxa // packs               # quanto maior o numero de packs menor sera a quantidade de shuffles a serem testados(teste de tecnica gulosa)\n",
    "\n",
    "  ok = False\n",
    "\n",
    "  for _ in range(tests):\n",
    "    permutation = list(range(n))\n",
    "    random.shuffle(permutation)\n",
    "\n",
    "    need = check(permutation)\n",
    "      \n",
    "    if need <= packs + out:     # se o numero de caixas necessarias atualmente é <= ao numero de caixas aceitavel + delta(dependendo da temperatura atual do sistema) \n",
    "      ok = True                 # quanto maior a temperatura maior sera o \"out\" levando a aceitar uma solução mesmo que seja \"ruim\" no momento\n",
    "    \n",
    "    global_solution = min(global_solution, need)\n",
    "\n",
    "  return ok"
   ]
  },
  {
   "cell_type": "code",
   "execution_count": 356,
   "metadata": {},
   "outputs": [],
   "source": [
    "def main():\n",
    "\n",
    "  global cooling_rate\n",
    "  global global_solution\n",
    "\n",
    "  l, r = 1, n\n",
    "  while r - l > 1:\n",
    "    bins = (l + r) // 2\n",
    "    if try_packs(bins) or global_solution < bins:    # se alguma configuração esteve dentro do limite  OU\n",
    "      r = bins                                       # se alguma solução encontrada ja foi menor que a quantidade de caixas atual, eu diminuo a quantidade de caixas a ser testada\n",
    "      global_solution = min(global_solution, bins)\n",
    "    else:\n",
    "      l = bins + 1\n",
    "\n",
    "  write_output_to_file(output_file, global_solution)\n",
    "\n",
    "if __name__ == \"__main__\":\n",
    "  main()"
   ]
  }
 ],
 "metadata": {
  "kernelspec": {
   "display_name": "venv",
   "language": "python",
   "name": "python3"
  },
  "language_info": {
   "codemirror_mode": {
    "name": "ipython",
    "version": 3
   },
   "file_extension": ".py",
   "mimetype": "text/x-python",
   "name": "python",
   "nbconvert_exporter": "python",
   "pygments_lexer": "ipython3",
   "version": "3.11.7"
  }
 },
 "nbformat": 4,
 "nbformat_minor": 2
}

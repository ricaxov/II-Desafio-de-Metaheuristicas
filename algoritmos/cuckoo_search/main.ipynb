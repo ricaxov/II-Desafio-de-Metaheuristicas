{
 "cells": [
  {
   "cell_type": "code",
   "execution_count": 20,
   "metadata": {},
   "outputs": [],
   "source": [
    "import numpy as np\n",
    "import random"
   ]
  },
  {
   "cell_type": "code",
   "execution_count": 21,
   "metadata": {},
   "outputs": [],
   "source": [
    "def read_input_from_file(file_path):\n",
    "  with open(file_path, 'r') as file:\n",
    "    # Ler a primeira linha que contém N\n",
    "    N = int(file.readline().strip())  # Quantidade de itens\n",
    "    \n",
    "    # Ler a segunda linha que contém C\n",
    "    C = int(file.readline().strip())  # Capacidade de cada caixa\n",
    "    \n",
    "    # Ler os pesos dos itens, um por linha\n",
    "    item_weights = []\n",
    "    for _ in range(N):\n",
    "      weight = int(file.readline().strip())\n",
    "      item_weights.append(weight)\n",
    "  \n",
    "  return N, C, item_weights"
   ]
  },
  {
   "cell_type": "code",
   "execution_count": 22,
   "metadata": {},
   "outputs": [],
   "source": [
    "def write_output_to_file(file_path, best_fitness):\n",
    "  with open(file_path, 'w') as file:\n",
    "    file.write(f'Número de bins usados (fitness): {best_fitness}\\n')"
   ]
  },
  {
   "cell_type": "code",
   "execution_count": 23,
   "metadata": {},
   "outputs": [],
   "source": [
    "# Função para gerar um voo de Lévy\n",
    "def levy_flight(Lambda):\n",
    "  sigma = (np.math.gamma(1 + Lambda) * np.sin(np.pi * Lambda / 2) / \n",
    "          (np.math.gamma((1 + Lambda) / 2) * Lambda * 2**((Lambda - 1) / 2))) ** (1 / Lambda)\n",
    "  u = np.random.normal(0, sigma)\n",
    "  v = np.random.normal(0, 1)\n",
    "  step = u / abs(v) ** (1 / Lambda)\n",
    "  return step"
   ]
  },
  {
   "cell_type": "code",
   "execution_count": 24,
   "metadata": {},
   "outputs": [],
   "source": [
    "# Função para a heurística de First Fit\n",
    "def first_fit(item_weights, bin_capacity):\n",
    "  bins = []\n",
    "  for weight in item_weights:\n",
    "    placed = False\n",
    "    for bin in bins:\n",
    "      if sum(bin) + weight <= bin_capacity:\n",
    "        bin.append(weight)\n",
    "        placed = True\n",
    "        break\n",
    "    if not placed:\n",
    "      bins.append([weight])\n",
    "  return bins"
   ]
  },
  {
   "cell_type": "code",
   "execution_count": 25,
   "metadata": {},
   "outputs": [],
   "source": [
    "# Função para calcular a aptidão (fitness)\n",
    "def fitness(bins):\n",
    "  return len(bins)"
   ]
  },
  {
   "cell_type": "code",
   "execution_count": 26,
   "metadata": {},
   "outputs": [],
   "source": [
    "# Função principal ajustada para o formato de input (N, C) e lista de pesos A[i]\n",
    "def adaptive_cuckoo_search_from_file(file_path, output_file, n_nests=20, pa=0.25, max_iter=20):\n",
    "  N, C, item_weights = read_input_from_file(file_path)\n",
    "  \n",
    "  # lista = []\n",
    "\n",
    "  for iter in range(max_iter):\n",
    "    nests = [np.random.permutation(item_weights) for _ in range(n_nests)]\n",
    "    best_nest = min(nests, key=lambda nest: fitness(first_fit(nest, C)))\n",
    "    val = fitness(first_fit(best_nest, C))\n",
    "    best_global = best_nest\n",
    "    for i in range(n_nests):\n",
    "      step_size = levy_flight(1.5)\n",
    "      new_nest = nests[i] + step_size * (nests[i] - nests[np.random.randint(n_nests)])\n",
    "      new_nest = np.clip(new_nest, 0, N-1)  # Garantir que permanece dentro dos limites\n",
    "\n",
    "      # Aplicar ROV para transformar em permutação\n",
    "      # random.shuffle(new_test)\n",
    "      new_nest = np.argsort(new_nest)\n",
    "\n",
    "      new_bins = first_fit(new_nest, C)\n",
    "      if fitness(new_bins) < fitness(first_fit(nests[i], C)):\n",
    "        nests[i] = new_nest\n",
    "\n",
    "    # Abandonar parte dos ninhos com probabilidade pa\n",
    "    for i in range(n_nests):\n",
    "      if np.random.rand() < pa:\n",
    "        nests[i] = np.random.permutation(item_weights)\n",
    "\n",
    "    best_nest = min(nests, key=lambda nest: fitness(first_fit(nest, C)))\n",
    "    nval = fitness(first_fit(best_nest, C))\n",
    "\n",
    "    if nval < val:\n",
    "      val = nval\n",
    "      best_global = best_nest\n",
    "    \n",
    "    # lista.append(val)\n",
    "    # print(\"iter:\", iter, val)\n",
    "\n",
    "  # Escrever o resultado no arquivo de saída\n",
    "  write_output_to_file(output_file, fitness(first_fit(best_global, C)))\n",
    "\n",
    "  # print(lista)\n",
    "\n",
    "  return fitness(first_fit(best_global, C))"
   ]
  },
  {
   "cell_type": "code",
   "execution_count": 27,
   "metadata": {},
   "outputs": [],
   "source": [
    "def main():\n",
    "  input_file = 'input.in'\n",
    "  output_file = 'output.out'\n",
    "  best_fitness = adaptive_cuckoo_search_from_file(input_file, output_file)\n",
    "  print(f'Resultado escrito no arquivo: {output_file}')"
   ]
  },
  {
   "cell_type": "code",
   "execution_count": null,
   "metadata": {},
   "outputs": [],
   "source": [
    "if __name__ == \"__main__\":\n",
    "  main()"
   ]
  }
 ],
 "metadata": {
  "kernelspec": {
   "display_name": "Python 3",
   "language": "python",
   "name": "python3"
  },
  "language_info": {
   "codemirror_mode": {
    "name": "ipython",
    "version": 3
   },
   "file_extension": ".py",
   "mimetype": "text/x-python",
   "name": "python",
   "nbconvert_exporter": "python",
   "pygments_lexer": "ipython3",
   "version": "3.8.10"
  }
 },
 "nbformat": 4,
 "nbformat_minor": 2
}
